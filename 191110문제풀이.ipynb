{
 "cells": [
  {
   "cell_type": "code",
   "execution_count": 2,
   "metadata": {},
   "outputs": [
    {
     "name": "stdout",
     "output_type": "stream",
     "text": [
      "팀들 :['한화 이글스', '뉴욕 양키스', '기아 타이거즈']\n",
      "타자들 :['조영욱:우타자', '김종성:우타자', '신용기:좌타자']\n"
     ]
    }
   ],
   "source": [
    "\n",
    "def baseball(*teams,**batters):\n",
    "    teamsList=[]\n",
    "    battersList=[]\n",
    "    for team in teams:\n",
    "        teamsList.append(team)\n",
    "    for batter in batters.items():\n",
    "        battersList.append(batter[0] + ':' + batter[1] + '타자')\n",
    "    print ('팀들 :' +str(teamsList))\n",
    "    print('타자들 :'+str(battersList))\n",
    "        \n",
    "        \n",
    "        \n",
    "baseball('한화 이글스','뉴욕 양키스','기아 타이거즈',조영욱='우',김종성='우',신용기='좌')   "
   ]
  },
  {
   "cell_type": "code",
   "execution_count": 68,
   "metadata": {},
   "outputs": [
    {
     "data": {
      "text/plain": [
       "[1, 3, 5, 7, 9]"
      ]
     },
     "execution_count": 68,
     "metadata": {},
     "output_type": "execute_result"
    }
   ],
   "source": [
    "list(filter(lambda x: x % 2, range(10)))"
   ]
  }
 ],
 "metadata": {
  "kernelspec": {
   "display_name": "Python 3",
   "language": "python",
   "name": "python3"
  },
  "language_info": {
   "codemirror_mode": {
    "name": "ipython",
    "version": 3
   },
   "file_extension": ".py",
   "mimetype": "text/x-python",
   "name": "python",
   "nbconvert_exporter": "python",
   "pygments_lexer": "ipython3",
   "version": "3.7.4"
  }
 },
 "nbformat": 4,
 "nbformat_minor": 2
}

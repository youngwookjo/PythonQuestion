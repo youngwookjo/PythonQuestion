{
 "cells": [
  {
   "cell_type": "markdown",
   "metadata": {},
   "source": [
    "### 1. 상자, 키 매칭시키기\n",
    "* 김종성씨와 조영욱씨는 각각 상자와 키를 가지고 있습니다 상자와 키를 각각 매칭시켜 열수있는 함수를 만드세요\n",
    "* 상자와 키의 색은 같아야 열립니다"
   ]
  },
  {
   "cell_type": "code",
   "execution_count": 1,
   "metadata": {},
   "outputs": [],
   "source": [
    "kim = [\"redkey\",\"bluekey\",\"greenkey\",\"yellowkey\",\"blackkey\"]\n",
    "cho = [\"blackbox\",\"yellowbox\",\"redbox\",\"whitebox\",\"graybox\"]"
   ]
  },
  {
   "cell_type": "markdown",
   "metadata": {},
   "source": [
    "### 2. 포커카드 숫자로 만들기\n",
    "* 포커카드 J,Q,K,A 를 받을때마다 카운팅 하여 숫자로 반환하는 함수를 만들고 딕셔너리로 만드세요"
   ]
  },
  {
   "cell_type": "code",
   "execution_count": 2,
   "metadata": {},
   "outputs": [],
   "source": [
    "poker = ['A','J','Q','J','Q','Q','Q','J','A','K','A','A','A','Q','J']"
   ]
  },
  {
   "cell_type": "markdown",
   "metadata": {},
   "source": [
    "### 3. 블랙잭!\n",
    "* 0 ~ 11 카드 두가지 가 랜덤하게 들어오는 함수를 만들고 값을 더해주는 함수를 만드세요\n",
    "* 처음 받은 두카드의 합이 22이면 버스트하였다고 출력하세요\n",
    "* 두수의 값의 합이 18 이하일 경우 카드를 계속 추가해 주세요\n",
    "* 21을 넘을경우 버스트하였다고 출력하세요\n",
    "* (from random import * ) \n",
    "* 참조 (randrange)"
   ]
  },
  {
   "cell_type": "markdown",
   "metadata": {},
   "source": [
    "### 4. 사전의 key값을 찾자\n",
    "* 주어진 dict타입의 데이터에서 주어진 index번째의 key값을 찾아주세요"
   ]
  },
  {
   "cell_type": "code",
   "execution_count": 3,
   "metadata": {},
   "outputs": [],
   "source": [
    "dict1 = {'one': 1, 'two': 2, 'three': 3}\n",
    "index1 = 1\n",
    "dict2 = {'엔': 1, '코': 2, '아': 3, '교': 4, '육': 5, '센': 6, '터': 7}\n",
    "index2 = 5"
   ]
  },
  {
   "cell_type": "markdown",
   "metadata": {},
   "source": [
    "### 5. 합의 제곱 빼기 제곱의 합\n",
    "* 1부터 주어진 숫자까지의 합의 제곱에서 제곱의 합을 빼주세요"
   ]
  },
  {
   "cell_type": "code",
   "execution_count": 4,
   "metadata": {},
   "outputs": [],
   "source": [
    "num1 = 4\n",
    "num2 = 30\n",
    "num3 = 77"
   ]
  },
  {
   "cell_type": "markdown",
   "metadata": {},
   "source": [
    "### 6. 봄의 시작을 맞춰라!\n",
    "* 주어진 list를 보고 봄이 시작하는 날짜를 맞춰주세요\n",
    "* 1일 평균기온의 9일 이동 평균값이 5℃이상으로 올라간 첫 번째 날을 봄의 시작으로 봅니다\n",
    "* 9일 이동 평균값은 과거 9일 동안 일평균기온의 평균입니다\n",
    "* tempList는 한달간의 일 평균기온을 나타냅니다"
   ]
  },
  {
   "cell_type": "code",
   "execution_count": 5,
   "metadata": {},
   "outputs": [],
   "source": [
    "tempList1 = [3, 5, 6, 2, 5, 7, 8, 2 ,3 ,1, 0, 3, 4, 5, 4, 3, 7, 8, 4, 3, 5, 7, 8, 3, 9 ,6 ,7 ,5 ,8, 4]\n",
    "tempList2 = [1, 2, 5, 1, 0, 2, 3, 4, 4, 8, 4, 1, 0, 4, 3, 4, 5, 3, 5, 7, 4, 6, 4, 2, 3, 4, 2, 3, 5, 3]"
   ]
  }
 ],
 "metadata": {
  "kernelspec": {
   "display_name": "Python 3",
   "language": "python",
   "name": "python3"
  },
  "language_info": {
   "codemirror_mode": {
    "name": "ipython",
    "version": 3
   },
   "file_extension": ".py",
   "mimetype": "text/x-python",
   "name": "python",
   "nbconvert_exporter": "python",
   "pygments_lexer": "ipython3",
   "version": "3.7.4"
  }
 },
 "nbformat": 4,
 "nbformat_minor": 2
}

{
 "cells": [
  {
   "cell_type": "markdown",
   "metadata": {},
   "source": [
    "## 쏘우...\n",
    "**직소는 유년기 시절 가족과 함께 경기도에 있는 놀이공원에 가족 나들이를 갔었습니다.**<br>\n",
    "**그곳에서 불량 청소년들에게 구타 당했던 기억이 굉장히 큰 트라우마가 되었고,<br> 그 기억을 잊지못한 직소는 당시 자신을 폭행한 불량배들에게 <font color=red>복수</font>를 계획합니다.**<br>\n",
    "**위에 list에는 당시 직소를 구타한 <font color=red>불량배</font> 가 포함 되어있습니다.**<br>\n",
    "**list에 있는 인물들은 여지껏 살고있는 지역에 변동이 없다고 합니다.**<br><br>\n",
    "\n",
    ">lifeList는 쏘우가 갖고놀 사람들 명단입니다.<br>\n",
    ">deadSet은 쏘우가 죽일 사람들의 명단입니다.<br>\n",
    ">문제에서 죽여야 되는 사람이 나오면 deadSet(사망명단)에 추가해주십시오.<br>"
   ]
  },
  {
   "cell_type": "code",
   "execution_count": 79,
   "metadata": {},
   "outputs": [],
   "source": [
    "lifeList =[\"김철수,45,서울시 동작구,삼성,서울대학교,chulsu@naver.com,010-1234-5678\",\n",
    "\"이나비,23,경기도 부천시,LG,울산대학교,butterfly@gmail.com,010-8753-1562\",\n",
    "\"조영수,34,서울시 중랑구,CJ,고려대학교,Y123su@daum.net,010-7856-1568\",\n",
    "\"박철민,56,경기도 의정부시,샘표,고구려대학교,parkCM@hanmail.com,010-1873-7292\",\n",
    "\"강범규,49,경기도 안산시,한국전력공사,세종대학교,kangRule@gmail.com,010-3871-4426\",\n",
    "\"최동남,33,서울시 강남구,넥슨,국민대학교,fareastsouth@naver.com,010-7231-7636\",\n",
    "\"박미영,28,서울시 서초구,네이버,건국대학교,beautyandyoung@gmail.com,010-8931-7812\",\n",
    "\"김가빈,60,서울시 구로구,카카오,동국대학교,kimbean@hanmail.com,010-1541-4153\",\n",
    "\"서만기,53,경기도 이천시,다음,명지대학교,tentho@daum.net,010-3548-1566\",\n",
    "\"류성비,46,경기도 고양시,한국수자원공사,가천대학교,genderratio@naver.com,010-7635-7862\",\n",
    "\"김철수,31,서울시 강남구,LG,고려대학교,shj2238@gmail.com,010-4587-3356\",\n",
    "\"Caterpie,27,서울시 관악구,넥슨,성균관 대학교,piepie@naver.com,010-7534-6628\",\n",
    "\"서대산,34,경기도 안산시,CJ,서울대학교,ququ@hanmail,010-7789-9982\",\n",
    "\"김공선,41,경기도 의왕시,KT,단국대학교,pling@naver.com,010-8819-4141\",\n",
    "\"Kingkong,52,경기도 오산시,CJ,강남대학교,wiwiwe@daum.net,010-5421-3545\",\n",
    "\"타노스,45,경기도 의정부시,네이버,명지대학교,hehe2342@gamil.com,010-8745-1154\",\n",
    "\"압둘알리,55,경기도 평택시,카카오,명지대학교,wxzaq322@naver.com,010-8841-3245\",\n",
    "\"카르마,35,경기도 고양시,한국전력공사,건국대학교,aqwezx221@naver.com,010-9878-2145\",\n",
    "\"박찬수,22,경기도 수원시,Encore,경기대학교,hanman@gamil.com,010-7414-3354\",\n",
    "\"진진자,41,서울시 강남구,KT,서울대학교,jinjin@naver.com,010-8741-2245\"]\n",
    "deadSet = set()"
   ]
  },
  {
   "cell_type": "markdown",
   "metadata": {},
   "source": [
    "#### 1. 쏘우 교도소로 보내는 버스가 왔습니다 서울시에 사는 사람들은 A버스에 탑승시키고 그 외의 지역에 사는 사람들은 B버스에 탑승 시키십시오.\n",
    ">print를 사용하여 출력하십시오."
   ]
  },
  {
   "cell_type": "markdown",
   "metadata": {},
   "source": [
    "#### 2. 교도소에 도착한 죄수들은 감옥으로 이송합니다 naver 이메일을 가진 죄수는 1번 감옥으로 보내고 gmail 이메일을 가진 죄수는 2번 감옥으로 보내고 그 외의 이메일 주소를 가진 죄수들은 모두 3번 감옥으로 보내십시오.\n",
    ">print를 사용하여 출력하십시오."
   ]
  },
  {
   "cell_type": "markdown",
   "metadata": {},
   "source": [
    "#### 3. 쏘우는 같은 회사나 대학교 출신을 가진 죄수들과 면담을 하고 싶어합니다 명단을 작성하십시오.<br>(회사:네이버, 대학교:명지대학교)\n",
    ">interviewList에 명단을 담고 출력하여 주십시오."
   ]
  },
  {
   "cell_type": "code",
   "execution_count": 3,
   "metadata": {},
   "outputs": [],
   "source": [
    "interviewList = []"
   ]
  },
  {
   "cell_type": "markdown",
   "metadata": {},
   "source": [
    "#### 4. 경기도살고 핸드폰 가운데 번호가 3으로 시작하는사람은 사망명단에 추가하십시오."
   ]
  },
  {
   "cell_type": "markdown",
   "metadata": {},
   "source": [
    "#### 5. 학교이름 2번째에 국이 들어가고 김씨인 사람은  사망명단에 추가하십시오."
   ]
  },
  {
   "cell_type": "markdown",
   "metadata": {},
   "source": [
    "####  6. 나이는 40대, 경기도, 이메일은 네이버 핸드폰 중간자리와 끝자리가 7로 시작하는 사람은  사망명단에 추가하십시오."
   ]
  },
  {
   "cell_type": "markdown",
   "metadata": {},
   "source": [
    "#### 7. 휴대폰 중간번호인 사람이 7231인 사람을 사망명단에 추가하십시오."
   ]
  },
  {
   "cell_type": "markdown",
   "metadata": {},
   "source": [
    "#### 8. 이메일 형식이 올바르지 않은 사람을 사망명단에 추가하십시오."
   ]
  },
  {
   "cell_type": "markdown",
   "metadata": {},
   "source": [
    "#### 9. 이제 deadSet에 있는 사람들을 죽이고 lifeList를 출력하십시오."
   ]
  },
  {
   "cell_type": "markdown",
   "metadata": {},
   "source": [
    "## 이제 직쏘의 목적이 드러납니다...\n",
    "**직쏘는 엔코아에서 파견나온 노예 채집가였습니다.**<br>\n",
    "**어린날 경기도 놀이공원에서 폭행을 당했던 직소는 이에 원한을 삼았습니다.**<br>\n",
    "**따라서 살아남은 사람들 중 경기도에서 사는 사람들을 노예로 쓰기로 결정했습니다.**<br>\n",
    "**살아남은 사람들을 끌고가도록 직장을 바꿔주십시오.**<br>\n",
    ">lifeList에서 사람들의 직장란에 있는 기존 값을 Encore로 바꿔주십시오.<br>"
   ]
  }
 ],
 "metadata": {
  "kernelspec": {
   "display_name": "Python 3",
   "language": "python",
   "name": "python3"
  },
  "language_info": {
   "codemirror_mode": {
    "name": "ipython",
    "version": 3
   },
   "file_extension": ".py",
   "mimetype": "text/x-python",
   "name": "python",
   "nbconvert_exporter": "python",
   "pygments_lexer": "ipython3",
   "version": "3.7.4"
  }
 },
 "nbformat": 4,
 "nbformat_minor": 2
}

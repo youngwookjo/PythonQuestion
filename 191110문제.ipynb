{
 "cells": [
  {
   "cell_type": "markdown",
   "metadata": {},
   "source": [
    "###  args 선수들을 사러온 팀 명단을 작성하시오   kwargs key 값에는 선수 이름을 적고 value에는 우타자인지 좌타자인지 적어서 반환하시오\n",
    "\n",
    "\n",
    "\n",
    " 팀이름 ( 한화 이글스,뉴욕 양키스,기아 타이거즈)<br>\n",
    " 선수목록 (조영욱=우,김종성=우,신용기=좌)\n",
    "\n",
    "\n",
    "\n",
    "### 출력 요구 사항 \n",
    "\n",
    "팀들 :['한화 이글스', '뉴욕 양키스', '기아 타이거즈'] <br>\n",
    "타자들 :['조영욱:우타자', '김종성:우타자', '신용기:좌타자']"
   ]
  },
  {
   "cell_type": "markdown",
   "metadata": {},
   "source": [
    "### 10까지 홀수값만 반환하는 리스트 반환하시오\n",
    "\n",
    "(filter,lambda 사용)\n",
    "\n"
   ]
  }
 ],
 "metadata": {
  "kernelspec": {
   "display_name": "Python 3",
   "language": "python",
   "name": "python3"
  },
  "language_info": {
   "codemirror_mode": {
    "name": "ipython",
    "version": 3
   },
   "file_extension": ".py",
   "mimetype": "text/x-python",
   "name": "python",
   "nbconvert_exporter": "python",
   "pygments_lexer": "ipython3",
   "version": "3.7.4"
  }
 },
 "nbformat": 4,
 "nbformat_minor": 2
}
